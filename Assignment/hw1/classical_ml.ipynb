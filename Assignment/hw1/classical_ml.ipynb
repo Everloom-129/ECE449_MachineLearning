{
 "cells": [
  {
   "cell_type": "code",
   "execution_count": null,
   "metadata": {},
   "outputs": [],
   "source": []
  },
  {
   "cell_type": "markdown",
   "metadata": {},
   "source": [
    "# Assignment 1: Classical Machine Learning\n",
    "Jie Wang\n",
    "\n",
    "Oct 18 2023"
   ]
  },
  {
   "cell_type": "markdown",
   "metadata": {},
   "source": [
    "## Question 1: Linear Regression on a Cosine Function\n",
    "\n",
    "Given the following points $$(t, y):(1, 2.4), (2, 1.3), (3, -0.5), (4, 1.6), (5, 2.8)$$\n",
    "\n",
    "Use linear regression to fit the function:\n",
    "$$ y = w_0 + w_1 cos(2t) + w_2 cos(5t)$$\n",
    "\n",
    "Determine the values of W0, W1, W2."
   ]
  },
  {
   "cell_type": "code",
   "execution_count": null,
   "metadata": {},
   "outputs": [],
   "source": [
    "import numpy as np\n",
    "t = [1,2,3,4,5]\n",
    "y = [2.4, 1.3, -0.5, 1.6, 2.8]\n",
    "\n",
    "def my_linear_regression(t,y):\n",
    "    \n",
    "    \n",
    "    return w0, w1, w2"
   ]
  },
  {
   "cell_type": "markdown",
   "metadata": {},
   "source": [
    "## Question 2: kNN Classification\n",
    "\n",
    "Given the data points and their labels:\n",
    "$$[(2,3), A], [(4,2), B], [(1,1), A], [(5,4), B], [(3,2), A], [(6,5), B], [(5,2), B], [(2,4), A], [(3,5), A], [(4,4), B] $$\n",
    "\n",
    "Predict the label for a new point (4,3) when k=1 and k=3.\n",
    "\n",
    "For Python, the key library is `sklearn.neighbors` with the main function being `KNeighborsClassifier`."
   ]
  },
  {
   "cell_type": "code",
   "execution_count": 4,
   "metadata": {},
   "outputs": [
    {
     "name": "stdout",
     "output_type": "stream",
     "text": [
      "The label for the point (4, 3) with k=1 is B\n",
      "The label for the point (4, 3) with k=3 is B\n"
     ]
    },
    {
     "data": {
      "image/png": "[encoded data removed]",
      "text/plain": [
       "<Figure size 432x288 with 1 Axes>"
      ]
     },
     "metadata": {
      "needs_background": "light"
     },
     "output_type": "display_data"
    }
   ],
   "source": [
    "from sklearn.neighbors import KNeighborsClassifier\n",
    "import numpy as np\n",
    "import matplotlib.pyplot as plt\n",
    "\n",
    "# Given data points and labels\n",
    "X = np.array([[2, 3], [4, 2], [1, 1], [5, 4], [3, 2], [6, 5], [5, 2], [2, 4], [3, 5], [4, 4]])\n",
    "y = np.array(['A', 'B', 'A', 'B', 'A', 'B', 'B', 'A', 'A', 'B'])\n",
    "\n",
    "# New point\n",
    "new_point = np.array([[4, 3]])\n",
    "\n",
    "# k=1\n",
    "knn1 = KNeighborsClassifier(n_neighbors=1)\n",
    "knn1.fit(X, y)\n",
    "label1 = knn1.predict(new_point)\n",
    "print(f\"The label for the point (4, 3) with k=1 is {label1[0]}\")\n",
    "\n",
    "# k=3\n",
    "knn3 = KNeighborsClassifier(n_neighbors=3)\n",
    "knn3.fit(X, y)\n",
    "label3 = knn3.predict(new_point)\n",
    "print(f\"The label for the point (4, 3) with k=3 is {label3[0]}\")\n",
    "\n",
    "\n",
    "\n",
    "# Separate the points by label\n",
    "X_A = X[y == 'A']\n",
    "X_B = X[y == 'B']\n",
    "\n",
    "# Plot the points\n",
    "plt.scatter(X_A[:, 0], X_A[:, 1], label='Class A', color='red', marker='o')\n",
    "plt.scatter(X_B[:, 0], X_B[:, 1], label='Class B', color='blue', marker='x')\n",
    "plt.scatter(new_point[0][0], new_point[0][1], label='New Point', color='green', marker='s')\n",
    "\n",
    "# Add labels and legend\n",
    "plt.xlabel('X-axis')\n",
    "plt.ylabel('Y-axis')\n",
    "plt.legend()\n",
    "\n",
    "plt.show()\n"
   ]
  },
  {
   "cell_type": "markdown",
   "metadata": {},
   "source": [
    "## Question 3: SVM Classification\n",
    "\n",
    "Using 10 2D points and their labels, determine the support vectors using SVM and provide the decision rule.\n",
    "\n",
    "Given the data points and their labels:\n",
    "\n",
    "$$ X= [[2,3], [4,2], [1,1], [5,4], [3,2], [6,5], [5,2], [2,4], [3,5], [4,4]] \\\\\n",
    "\n",
    "y = ['A', 'B', 'A', 'B', 'A', 'B', 'B', 'A', 'A', 'B']\n",
    "$$\n",
    "\n",
    "For Python, you can retrieve w1, w2 using `clf.coef_` and b using `clf.intercept_` after training your SVM.\n",
    "\n",
    "For MATLAB, after fitting your SVM model, you can retrieve the coefficients using sVMModel.Beta and the intercept with SVMModel.Bias."
   ]
  },
  {
   "cell_type": "code",
   "execution_count": 7,
   "metadata": {},
   "outputs": [
    {
     "name": "stdout",
     "output_type": "stream",
     "text": [
      "Support Vectors: [[3. 2.]\n",
      " [3. 5.]\n",
      " [4. 2.]\n",
      " [4. 4.]]\n",
      "w1 = 1.7000000000000002, w2 = -0.09999999999999964\n",
      "b = -5.6\n"
     ]
    },
    {
     "data": {
      "image/png": "[encoded data removed]",
      "text/plain": [
       "<Figure size 432x288 with 1 Axes>"
      ]
     },
     "metadata": {
      "needs_background": "light"
     },
     "output_type": "display_data"
    }
   ],
   "source": [
    "from sklearn import svm\n",
    "import numpy as np\n",
    "import matplotlib.pyplot as plt\n",
    "\n",
    "# Given data points and their labels\n",
    "X = np.array([[2, 3], [4, 2], [1, 1], [5, 4], [3, 2], [6, 5], [5, 2], [2, 4], [3, 5], [4, 4]])\n",
    "y = np.array(['A', 'B', 'A', 'B', 'A', 'B', 'B', 'A', 'A', 'B'])\n",
    "\n",
    "# Train the SVM classifier\n",
    "clf = svm.SVC(kernel='linear', C=1)\n",
    "clf.fit(X, y)\n",
    "\n",
    "# Retrieve the coefficients and intercept\n",
    "w = clf.coef_\n",
    "b = clf.intercept_\n",
    "\n",
    "# Retrieve support vectors\n",
    "support_vectors = clf.support_vectors_\n",
    "\n",
    "print(\"Support Vectors:\", support_vectors)\n",
    "print(f\"w1 = {w[0][0]}, w2 = {w[0][1]}\")\n",
    "print(f\"b = {b[0]}\")\n",
    "\n",
    "\n",
    "\n",
    "# Separate the points by label\n",
    "X_A = X[y == 'A']\n",
    "X_B = X[y == 'B']\n",
    "\n",
    "# Plot the points\n",
    "plt.scatter(X_A[:, 0], X_A[:, 1], label='Class A', color='red', marker='o')\n",
    "plt.scatter(X_B[:, 0], X_B[:, 1], label='Class B', color='blue', marker='x')\n",
    "\n",
    "# Add labels and legend\n",
    "plt.xlabel('X-axis')\n",
    "plt.ylabel('Y-axis')\n",
    "plt.legend()\n",
    "\n",
    "plt.show()\n"
   ]
  }
 ],
 "metadata": {
  "kernelspec": {
   "display_name": "base",
   "language": "python",
   "name": "python3"
  },
  "language_info": {
   "codemirror_mode": {
    "name": "ipython",
    "version": 3
   },
   "file_extension": ".py",
   "mimetype": "text/x-python",
   "name": "python",
   "nbconvert_exporter": "python",
   "pygments_lexer": "ipython3",
   "version": "0.0.0"
  }
 },
 "nbformat": 4,
 "nbformat_minor": 2
}
