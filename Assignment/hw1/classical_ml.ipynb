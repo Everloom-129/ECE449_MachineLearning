{
 "cells": [
  {
   "cell_type": "code",
   "execution_count": null,
   "metadata": {},
   "outputs": [],
   "source": []
  },
  {
   "cell_type": "markdown",
   "metadata": {},
   "source": [
    "# Assignment 1: Classical Machine Learning\n",
    "Jie Wang\n",
    "\n",
    "Oct 18 2023"
   ]
  },
  {
   "cell_type": "markdown",
   "metadata": {},
   "source": [
    "## Question 1: Linear Regression on a Cosine Function\n",
    "\n",
    "Given the following points $$(t, y):(1, 2.4), (2, 1.3), (3, -0.5), (4, 1.6), (5, 2.8)$$\n",
    "\n",
    "Use linear regression to fit the function:\n",
    "$$ y = w_0 + w_1 cos(2t) + w_2 cos(5t)$$\n",
    "\n",
    "Determine the values of W0, W1, W2."
   ]
  },
  {
   "cell_type": "code",
   "execution_count": null,
   "metadata": {},
   "outputs": [],
   "source": [
    "import numpy as np\n",
    "points = [2.4, 1.3, -0.5, 1.6, 2.8]\n",
    "\n",
    "def my_linear_regression(point_array):\n",
    "    w0 = w1 = w2 = 1\n",
    "    \n",
    "    return w0, w1, w2"
   ]
  },
  {
   "cell_type": "markdown",
   "metadata": {},
   "source": [
    "Question 2: kNN Classification\n",
    "\n",
    "Given the data points and their labels:\n",
    "$$[(2,3), A], [(4,2), B], [(1,1), A], [(5,4), B], [(3,2), A], [(6,5), B], [(5,2), B], [(2,4), A], [(3,5), A], [(4,4), B] $$\n",
    "\n",
    "Predict the label for a new point (4,3) when k=1 and k=3.\n",
    "\n",
    "For Python, the key library is `sklearn.neighbors` with the main function being `KNeighborsClassifier`."
   ]
  },
  {
   "cell_type": "code",
   "execution_count": null,
   "metadata": {},
   "outputs": [],
   "source": []
  },
  {
   "cell_type": "markdown",
   "metadata": {},
   "source": [
    "Question 3: SVM Classification\n",
    "\n",
    "Using 10 2D points and their labels, determine the support vectors using SVM and provide the decision rule.\n",
    "\n",
    "Given the data points and their labels:\n",
    "\n",
    "$$X= [[2,3], [4,2], [1,1], [5,4], [3,2], [6,5], [5,2], [2,4], [3,5], [4,4]] \\\\\n",
    "\n",
    "y = ['A', 'B', 'A', 'B', 'A', 'B', 'B', 'A', 'A', 'B']\n",
    "$$\n",
    "\n",
    "For Python, you can retrieve w1, w2 using `clf.coef_` and b using `clf.intercept_` after training your SVM.\n",
    "\n",
    "For MATLAB, after fitting your SVM model, you can retrieve the coefficients using sVMModel.Beta and the intercept with SVMModel.Bias."
   ]
  }
 ],
 "metadata": {
  "language_info": {
   "name": "python"
  }
 },
 "nbformat": 4,
 "nbformat_minor": 2
}
