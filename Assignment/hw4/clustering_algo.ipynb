{
 "cells": [
  {
   "cell_type": "markdown",
   "metadata": {},
   "source": [
    "# ECE449: Assignment 4\n",
    "Jie Wang\n",
    "\n",
    "Dec. 25, 2023\n",
    "\n"
   ]
  },
  {
   "cell_type": "markdown",
   "metadata": {},
   "source": [
    "## Notice\n",
    "\n",
    "> Sorry for delaying submission, I was occupied by application and final project presentation these days, forgetting to complete the assignment on time. \n",
    "\n",
    "> Thank you for your understanding in advance~\n",
    "\n",
    "### `ece449_hw4_wj.pdf`\n",
    "My manually calculation for the questions, including the necessary algorithm pesudo code and important step. \n",
    "\n",
    "### `clustering_algo.ipynb`\n",
    "The python realization of questions, I implement my algorithm from sketch as it took many step to compute these data set. \n",
    "\n"
   ]
  },
  {
   "cell_type": "code",
   "execution_count": null,
   "metadata": {
    "vscode": {
     "languageId": "plaintext"
    }
   },
   "outputs": [],
   "source": [
    "## Q1: Kmeans\n"
   ]
  }
 ],
 "metadata": {
  "language_info": {
   "name": "python"
  }
 },
 "nbformat": 4,
 "nbformat_minor": 2
}
