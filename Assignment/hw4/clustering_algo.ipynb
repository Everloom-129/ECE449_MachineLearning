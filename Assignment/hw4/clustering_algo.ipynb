{
 "cells": [
  {
   "cell_type": "markdown",
   "metadata": {},
   "source": [
    "# ECE449: Assignment 4\n",
    "Jie Wang\n",
    "\n",
    "Dec. 25, 2023\n",
    "\n"
   ]
  },
  {
   "cell_type": "markdown",
   "metadata": {},
   "source": [
    "## Notice\n",
    "\n",
    "> Sorry for delaying submission, I was occupied by application and final project presentation these days, forgetting to complete the assignment on time. \n",
    "\n",
    "> Thank you for your understanding in advance~\n",
    "\n",
    "### `ece449_hw4_wj.pdf`\n",
    "My manually calculation for the questions, including the necessary algorithm pesudo code and important step. \n",
    "\n",
    "### `clustering_algo.ipynb`\n",
    "The python realization of questions, I implement my algorithm from sketch as it took many step to compute these data set. \n",
    "\n"
   ]
  },
  {
   "cell_type": "code",
   "execution_count": 1,
   "metadata": {},
   "outputs": [],
   "source": [
    "## Q1: Kmeans\n"
   ]
  },
  {
   "cell_type": "markdown",
   "metadata": {},
   "source": [
    "## Q1: Kmeans\n",
    "\n",
    "![q1](./q1.png)\n",
    "\n",
    "The code is mainly constructed based on this post:\n",
    "- Stanford-CS221: https://stanford.edu/~cpiech/cs221/handouts/kmeans.html"
   ]
  },
  {
   "cell_type": "code",
   "execution_count": 2,
   "metadata": {},
   "outputs": [],
   "source": [
    "# Here is all the library I used in this assinment, \n",
    "# no sklean or other advanced ones.\n",
    "import numpy as np\n",
    "import matplotlib.pyplot as plt\n"
   ]
  },
  {
   "cell_type": "code",
   "execution_count": 3,
   "metadata": {},
   "outputs": [
    {
     "name": "stdout",
     "output_type": "stream",
     "text": [
      "iteration 1...\n",
      "Cluster 1: [array([44, 47]), array([58, 65]), array([58, 65]), array([46, 88]), array([25, 77]), array([20, 80])]\n",
      "\n",
      "Cluster 2: [array([64, 67]), array([70, 88]), array([70, 88]), array([69, 79])]\n",
      "\n",
      "Cluster 3: [array([67,  9]), array([83, 21]), array([83, 21]), array([81, 37]), array([72,  9])]\n",
      "\n",
      "centroids:\n",
      "[[x    y   ]]\n",
      "[[41.83333333 70.33333333]\n",
      " [68.25       80.5       ]\n",
      " [77.2        19.4       ]]\n",
      "iteration 2...\n",
      "Cluster 1: [array([44, 47]), array([58, 65]), array([58, 65]), array([46, 88]), array([25, 77]), array([20, 80])]\n",
      "\n",
      "Cluster 2: [array([64, 67]), array([70, 88]), array([70, 88]), array([69, 79])]\n",
      "\n",
      "Cluster 3: [array([67,  9]), array([83, 21]), array([83, 21]), array([81, 37]), array([72,  9])]\n",
      "\n",
      "centroids:\n",
      "[[x    y   ]]\n",
      "[[41.83333333 70.33333333]\n",
      " [68.25       80.5       ]\n",
      " [77.2        19.4       ]]\n"
     ]
    }
   ],
   "source": [
    "point_q1 = np.array([(44, 47), (64, 67), (67, 9),  (83, 21), (83, 21),\n",
    "                     (70, 88), (70, 88), (58, 65), (58, 65), (46, 88),\n",
    "                     (81, 37), (25, 77), (72, 9),  (20, 80), (69, 79)])\n",
    "\n",
    "# selected initial clustering centroids\n",
    "centroids = np.array([(58, 65), (64, 67), (83, 21)])\n",
    "\n",
    "# euclidean distance function\n",
    "def dist(point1, point2):\n",
    "    return np.sqrt((point1[0] - point2[0]) ** 2 + (point1[1] - point2[1]) ** 2)\n",
    "\n",
    "def display_cluster(clusters,k,centroids):\n",
    "    for k, cluster in clusters.items():\n",
    "        print(f\"Cluster {k+1}: {cluster}\\n\")\n",
    "    print(f\"centroids:\\n[[x    y   ]]\\n{centroids}\")\n",
    "\n",
    "def k_means(points, initial_centroids,k=3,iterations=10):\n",
    "    centroids = initial_centroids\n",
    "    for i in range(iterations):\n",
    "        print(f\"iteration {i+1}...\")\n",
    "        # assign point_q2 to centroids\n",
    "        clusters = {}\n",
    "        for point in points:\n",
    "            distances = [dist(point, centroid) for centroid in centroids]\n",
    "            min_distance = min(distances)\n",
    "            assigned_centroid = distances.index(min_distance)\n",
    "            if assigned_centroid not in clusters:\n",
    "                clusters[assigned_centroid] = []\n",
    "            clusters[assigned_centroid].append(point)\n",
    " \n",
    "        # Update center\n",
    "        new_centroids = []\n",
    "        for cluster in clusters.values():\n",
    "            new_centroids.append(np.mean(cluster, axis=0))\n",
    "        new_centroids = np.array(new_centroids) \n",
    "\n",
    "        display_cluster(clusters,k,new_centroids)\n",
    "\n",
    "        if np.all(centroids == new_centroids):\n",
    "            break\n",
    "        centroids = new_centroids\n",
    "\n",
    "\n",
    "    return clusters, centroids\n",
    "\n",
    "final_clusters, final_centroids = k_means(point_q1, centroids)\n",
    "\n"
   ]
  },
  {
   "cell_type": "code",
   "execution_count": 4,
   "metadata": {},
   "outputs": [
    {
     "name": "stdout",
     "output_type": "stream",
     "text": [
      "Here is the final clusters:\n",
      "Cluster 1: [array([44, 47]), array([58, 65]), array([58, 65]), array([46, 88]), array([25, 77]), array([20, 80])]\n",
      "\n",
      "Cluster 2: [array([64, 67]), array([70, 88]), array([70, 88]), array([69, 79])]\n",
      "\n",
      "Cluster 3: [array([67,  9]), array([83, 21]), array([83, 21]), array([81, 37]), array([72,  9])]\n",
      "\n",
      "centroids:\n",
      "[[x    y   ]]\n",
      "[[41.83333333 70.33333333]\n",
      " [68.25       80.5       ]\n",
      " [77.2        19.4       ]]\n"
     ]
    }
   ],
   "source": [
    "print(\"Here is the final clusters:\")\n",
    "display_cluster(final_clusters,3,final_centroids)"
   ]
  },
  {
   "cell_type": "markdown",
   "metadata": {},
   "source": [
    "The result is visualized below:"
   ]
  },
  {
   "cell_type": "code",
   "execution_count": 5,
   "metadata": {},
   "outputs": [
    {
     "data": {
      "image/png": "[encoded data removed]",
      "text/plain": [
       "<Figure size 576x432 with 1 Axes>"
      ]
     },
     "metadata": {
      "needs_background": "light"
     },
     "output_type": "display_data"
    }
   ],
   "source": [
    "\n",
    "def plot_clusters(clusters, centroids):\n",
    "    colors = ['r', 'g', 'b', 'y', 'c', 'm']\n",
    "    plt.figure(figsize=(8, 6))\n",
    "\n",
    "    for i, cluster in clusters.items():\n",
    "        cluster = np.array(cluster)\n",
    "        plt.scatter(cluster[:, 0], cluster[:, 1], s=100, c=colors[i], label=f'Cluster {i+1}')\n",
    "        plt.scatter(centroids[i][0], centroids[i][1], s=200, c='black', marker='x')\n",
    "\n",
    "    plt.title('K-Means Clustering')\n",
    "    plt.xlabel('X coordinates')\n",
    "    plt.ylabel('Y coordinates')\n",
    "    plt.legend()\n",
    "    plt.grid(True)\n",
    "    plt.show()\n",
    "\n",
    "plot_clusters(final_clusters, final_centroids)"
   ]
  },
  {
   "cell_type": "markdown",
   "metadata": {},
   "source": [
    "## Q2: hieristical Clustering\n",
    "![q2](./q2.png)\n",
    "\n",
    "Major reference: http://www.econ.upf.edu/~michael/stanford/maeb7.pdf"
   ]
  },
  {
   "cell_type": "code",
   "execution_count": 6,
   "metadata": {},
   "outputs": [
    {
     "name": "stdout",
     "output_type": "stream",
     "text": [
      "Step 1: Merged clusters [3] and [4] at distance 0.00. New cluster: [3, 4]\n",
      "Step 2: Merged clusters [5] and [6] at distance 0.00. New cluster: [5, 6]\n",
      "Step 3: Merged clusters [7] and [8] at distance 0.00. New cluster: [7, 8]\n",
      "Step 4: Merged clusters [1] and [7, 8] at distance 6.32. New cluster: [1, 7, 8]\n",
      "Step 5: Merged clusters [2] and [3, 4] at distance 20.00. New cluster: [2, 3, 4]\n",
      "Step 6: Merged clusters [5, 6] and [1, 7, 8] at distance 21.84. New cluster: [5, 6, 1, 7, 8]\n",
      "Step 7: Merged clusters [0] and [5, 6, 1, 7, 8] at distance 22.80. New cluster: [0, 5, 6, 1, 7, 8]\n",
      "Step 8: Merged clusters [9] and [0, 5, 6, 1, 7, 8] at distance 24.00. New cluster: [9, 0, 5, 6, 1, 7, 8]\n",
      "Step 9: Merged clusters [2, 3, 4] and [9, 0, 5, 6, 1, 7, 8] at distance 44.42. New cluster: [2, 3, 4, 9, 0, 5, 6, 1, 7, 8]\n"
     ]
    }
   ],
   "source": [
    "point_q2 = np.array([(44, 47), (64, 67), (67, 9),  (83, 21), (83, 21), \n",
    "                     (70, 88), (70, 88), (58, 65), (58, 65), (46, 88)])\n",
    "def hierarchical_clustering(points):\n",
    "    # initialize clusters\n",
    "    clusters = [[i] for i in range(len(points))]\n",
    "\n",
    "    steps = []\n",
    "    \n",
    "    # Euclidean distance between two clusters\n",
    "    def cluster_distance(cluster1, cluster2):\n",
    "        return min(dist(points[i], points[j]) for i in cluster1 for j in cluster2)\n",
    "    \n",
    "    while len(clusters) > 1:\n",
    "        min_distance = np.inf\n",
    "        clusters_to_merge = (-1, -1)\n",
    "        \n",
    "        # Find the two closest clusters\n",
    "        for i in range(len(clusters)):\n",
    "            for j in range(i+1, len(clusters)):\n",
    "                distance = cluster_distance(clusters[i], clusters[j])\n",
    "                if distance < min_distance:\n",
    "                    min_distance = distance\n",
    "                    clusters_to_merge = (i, j)\n",
    "        \n",
    "        # merge the closest pairs\n",
    "        new_cluster = clusters[clusters_to_merge[0]] + clusters[clusters_to_merge[1]]\n",
    "        steps.append({\n",
    "            'merged': (clusters[clusters_to_merge[0]], clusters[clusters_to_merge[1]]),\n",
    "            'distance': min_distance,\n",
    "            'new_cluster': new_cluster\n",
    "        })\n",
    "        \n",
    "        # remove the old clusters and add the new one\n",
    "        new_clusters = [clusters[i] for i in range(len(clusters)) if i not in clusters_to_merge]\n",
    "        new_clusters.append(new_cluster)\n",
    "        clusters = new_clusters\n",
    "    \n",
    "    return steps\n",
    "\n",
    "clustering_steps = hierarchical_clustering(point_q2)\n",
    "\n",
    "for i, step in enumerate(clustering_steps):\n",
    "    print(f\"Step {i+1}: Merged clusters {step['merged'][0]} and {step['merged'][1]} \"\n",
    "          f\"at distance {step['distance']:.2f}. New cluster: {step['new_cluster']}\")\n"
   ]
  },
  {
   "cell_type": "markdown",
   "metadata": {},
   "source": [
    "### Existing Algorithm Check\n",
    "It seems my realization fit in well with the library"
   ]
  },
  {
   "cell_type": "code",
   "execution_count": 7,
   "metadata": {},
   "outputs": [
    {
     "data": {
      "image/png": "[encoded data removed]",
      "text/plain": [
       "<Figure size 1152x648 with 1 Axes>"
      ]
     },
     "metadata": {
      "needs_background": "light"
     },
     "output_type": "display_data"
    }
   ],
   "source": [
    "from scipy.spatial.distance import pdist, squareform\n",
    "from scipy.cluster.hierarchy import linkage, dendrogram\n",
    "\n",
    "# Calculate the condensed distance matrix\n",
    "condensed_dist_matrix = pdist(point_q2, 'euclidean')\n",
    "\n",
    "# Convert the condensed distance matrix to a 2D distance matrix\n",
    "dist_matrix = squareform(condensed_dist_matrix)\n",
    "\n",
    "# Perform hierarchical/agglomerative clustering\n",
    "Z = linkage(condensed_dist_matrix, 'single')\n",
    "\n",
    "# Plot dendrogram\n",
    "plt.figure(figsize=(16, 9))\n",
    "plt.xlabel('Index of Points')\n",
    "plt.ylabel('Distance')\n",
    "plt.title('Hierarchical Clustering Dendrogram')\n",
    "\n",
    "dendrogram(Z, labels=[f'Point {i+1}' for i in range(len(point_q2))])\n",
    "\n",
    "plt.show()\n"
   ]
  },
  {
   "cell_type": "markdown",
   "metadata": {},
   "source": [
    "## Q3: PCA\n",
    "![q3](./q3.png)"
   ]
  },
  {
   "cell_type": "code",
   "execution_count": 8,
   "metadata": {},
   "outputs": [
    {
     "name": "stdout",
     "output_type": "stream",
     "text": [
      "[44.5 47.  60.5 45.7 64.5] \n",
      "\n",
      " [22.66384786 22.28003591 26.5678377  29.36341261 23.2432786 ] \n",
      "\n",
      " [[-0.02206157  0.          0.13173823  0.72539252  0.10755798]\n",
      " [-1.56637126  1.61579632 -1.48676006 -0.33034307  0.96802178]\n",
      " [ 1.12513992  1.84021247  1.03508612 -1.14768676 -0.27965074]\n",
      " [ 0.90452425 -0.35906585  0.99744662  0.0102168   1.01104497]\n",
      " [ 1.6104944  -0.44883231 -1.33620208  1.0659524   0.32267393]\n",
      " [-1.56637126 -1.21184724  0.73397016  0.7935045   0.62383626]\n",
      " [ 0.11030784  0.76301493  0.80924915  1.81518411  1.01104497]\n",
      " [ 0.1985541  -0.80789816 -1.56203905 -0.90929485 -2.17267111]\n",
      " [-0.24267724 -0.67324847  0.16937773 -1.24985473 -0.32267393]\n",
      " [-0.55153918 -0.7181317   0.50813319 -0.77307091 -1.26918412]] \n",
      "\n"
     ]
    },
    {
     "data": {
      "text/plain": [
       "array([[ 1.11111111,  0.09703905,  0.06098726,  0.04917027, -0.10198186],\n",
       "       [ 0.09703905,  1.11111111,  0.02834408, -0.06368928,  0.38234192],\n",
       "       [ 0.06098726,  0.02834408,  1.11111111,  0.09464327,  0.31478776],\n",
       "       [ 0.04917027, -0.06368928,  0.09464327,  1.11111111,  0.68042131],\n",
       "       [-0.10198186,  0.38234192,  0.31478776,  0.68042131,  1.11111111]])"
      ]
     },
     "execution_count": 8,
     "metadata": {},
     "output_type": "execute_result"
    }
   ],
   "source": [
    "X = np.array([\n",
    "    (44, 47, 64, 67, 67),\n",
    "    (9, 83, 21, 36, 87),\n",
    "    (70, 88, 88, 12, 58),\n",
    "    (65, 39, 87, 46, 88),\n",
    "    (81, 37, 25, 77, 72),\n",
    "    (9, 20, 80, 69, 79),\n",
    "    (47, 64, 82, 99, 88),\n",
    "    (49, 29, 19, 19, 14),\n",
    "    (39, 32, 65, 9, 57),\n",
    "    (32, 31, 74, 23, 35),\n",
    "])\n",
    "\n",
    "mean = np.mean(X, axis=0)\n",
    "\n",
    "std_dev = np.std(X, axis=0)\n",
    "Xc = (X - mean) / std_dev\n",
    "print(mean, '\\n\\n', std_dev,'\\n\\n', Xc, '\\n')\n",
    "# Compute the covariance matrix\n",
    "cov_matrix = np.cov(Xc.T)\n",
    "cov_matrix"
   ]
  },
  {
   "cell_type": "code",
   "execution_count": 9,
   "metadata": {},
   "outputs": [
    {
     "data": {
      "text/plain": [
       "(array([0.248481  , 1.96804723, 1.20944702, 1.02230231, 1.10727801]),\n",
       " array([[ 0.16885102, -0.00481615,  0.61910406,  0.35753132, -0.67848924],\n",
       "        [-0.36284636, -0.28063125,  0.693557  ,  0.0200768 ,  0.55512542],\n",
       "        [-0.19208855, -0.32913818,  0.10267609, -0.83187752, -0.39013773],\n",
       "        [-0.5643451 , -0.5702678 , -0.35091019,  0.42238231, -0.23401811],\n",
       "        [ 0.69602331, -0.6983449 , -0.04481641,  0.03662306,  0.15657647]]))"
      ]
     },
     "execution_count": 9,
     "metadata": {},
     "output_type": "execute_result"
    }
   ],
   "source": [
    "# Sort Eigenvalues and Eigenvectors\n",
    "eigenvalues, eigenvectors = np.linalg.eig(cov_matrix)\n",
    "eigenvalues,eigenvectors"
   ]
  },
  {
   "cell_type": "code",
   "execution_count": 10,
   "metadata": {},
   "outputs": [
    {
     "name": "stdout",
     "output_type": "stream",
     "text": [
      "Transformed Data Points:\n",
      "[[-5.32034393e-01 -2.59500029e-01]\n",
      " [-4.44178615e-01  7.07828047e-02]\n",
      " [-1.27448757e-02  2.49441745e+00]\n",
      " [-9.43773408e-01  3.64479342e-01]\n",
      " [-2.75220907e-01  1.60062182e-01]\n",
      " [-7.82114442e-01 -2.04127767e+00]\n",
      " [-2.22221104e+00 -1.70109373e-03]\n",
      " [ 2.77570727e+00 -1.81329684e-01]\n",
      " [ 1.07244425e+00 -1.46739761e-01]\n",
      " [ 1.36412616e+00 -4.59193543e-01]]\n"
     ]
    }
   ],
   "source": [
    "# Sort the eigenvectors by descending eigenvalues\n",
    "sorted_indices = np.argsort(eigenvalues)[::-1]\n",
    "sorted_eigenvectors = eigenvectors[:, sorted_indices]\n",
    "sorted_eigenvalues = eigenvalues[sorted_indices]\n",
    "\n",
    "k = 2\n",
    "transformation_matrix = sorted_eigenvectors[:, :k]\n",
    "\n",
    "# Transform the original data points\n",
    "transformed_data_points = Xc.dot(transformation_matrix)\n",
    "\n",
    "# Display the transformed data points\n",
    "print(\"Transformed Data Points:\")\n",
    "print(transformed_data_points)\n"
   ]
  },
  {
   "cell_type": "code",
   "execution_count": 11,
   "metadata": {},
   "outputs": [
    {
     "name": "stdout",
     "output_type": "stream",
     "text": [
      "Transformed Test Data Point:\n",
      "[[ 3.80309275 -1.99981115]]\n"
     ]
    }
   ],
   "source": [
    "# Applying PCA to the Test Data\n",
    "test_point = np.array([[5, 5, 5, 5, 5]])\n",
    "\n",
    "# Standardize \n",
    "test_data_point_std = (test_point - mean) / std_dev\n",
    "\n",
    "# Project the Test vector\n",
    "transformed_test_data_point = test_data_point_std.dot(transformation_matrix)\n",
    "\n",
    "print(f\"Transformed Test Data Point:\")\n",
    "print(transformed_test_data_point)"
   ]
  },
  {
   "cell_type": "markdown",
   "metadata": {},
   "source": [
    "### Existing Algorithm Check\n",
    "It seems my realization fit in well with the library"
   ]
  },
  {
   "cell_type": "code",
   "execution_count": 15,
   "metadata": {},
   "outputs": [
    {
     "data": {
      "text/plain": [
       "array([ 3.80309275, -1.99981115])"
      ]
     },
     "execution_count": 15,
     "metadata": {},
     "output_type": "execute_result"
    }
   ],
   "source": [
    "from sklearn.decomposition import PCA\n",
    "from sklearn.preprocessing import StandardScaler\n",
    "\n",
    "\n",
    "# Standardizing the data\n",
    "scaler = StandardScaler()\n",
    "data_points_standardized = scaler.fit_transform(X)\n",
    "test_data_point_standardized = scaler.transform(test_point)\n",
    "\n",
    "# PCA transformation\n",
    "pca = PCA(n_components=2)\n",
    "pca.fit(data_points_standardized)\n",
    "\n",
    "# Transform the test data point\n",
    "test_data_point_pca = pca.transform(test_data_point_standardized)\n",
    "\n",
    "# Display the results\n",
    "test_data_point_pca_coordinates = test_data_point_pca[0]\n",
    "test_data_point_pca_coordinates\n"
   ]
  },
  {
   "cell_type": "code",
   "execution_count": 16,
   "metadata": {},
   "outputs": [
    {
     "data": {
      "image/png": "[encoded data removed]",
      "text/plain": [
       "<Figure size 720x432 with 1 Axes>"
      ]
     },
     "metadata": {
      "needs_background": "light"
     },
     "output_type": "display_data"
    }
   ],
   "source": [
    "\n",
    "# Re-performing PCA on the entire dataset including both training and test data points\n",
    "data_points_with_test = np.vstack([X, test_point])\n",
    "data_points_with_test_standardized = scaler.transform(data_points_with_test)\n",
    "data_points_with_test_pca = pca.transform(data_points_with_test_standardized)\n",
    "\n",
    "# Separate the PCA results into training and test for plotting\n",
    "training_pca = data_points_with_test_pca[:-1, :]\n",
    "test_pca = data_points_with_test_pca[-1, :]\n",
    "\n",
    "# Plotting the PCA results\n",
    "plt.figure(figsize=(10, 6))\n",
    "plt.scatter(training_pca[:, 0], training_pca[:, 1], c='blue', label='Training Data')\n",
    "plt.scatter(test_pca[0], test_pca[1], c='red', marker='*', s=200, label='Test Data Point')\n",
    "plt.title('PCA Result')\n",
    "plt.xlabel('Principal Component 1')\n",
    "plt.ylabel('Principal Component 2')\n",
    "plt.legend()\n",
    "plt.grid(True)\n",
    "plt.show()\n"
   ]
  },
  {
   "cell_type": "markdown",
   "metadata": {},
   "source": [
    "## Q4: EM on a GMM\n",
    "![q4](./q4.png)\n",
    "### Initial Parameters:\n",
    "- Component 1: Mean (μ1) = 5, Variance (σ1^2) = 2, Mixing Coefficient (π1) = 0.5\n",
    "- Component 2: Mean (μ2) = 15, Variance (σ2^2) = 2, Mixing Coefficient (π2) = 0.5\n",
    "\n",
    "### Data Points:\n",
    "$ X = \\{12, 15, 0, 3, 3, 7, 9, 19, 18, 4\\} $\n",
    "\n",
    "1. **Expectation (E) step**: Calculate the probabilities that each data point was generated by each component of the mixture model.\n",
    "2. **Maximization (M) step**: Update the parameters of the model to maximize the likelihood of the data given these probabilities.\n",
    "\n"
   ]
  },
  {
   "cell_type": "code",
   "execution_count": 17,
   "metadata": {},
   "outputs": [
    {
     "name": "stdout",
     "output_type": "stream",
     "text": [
      "Updated parameters after one iteration:\n",
      "Component 1: Mean = 4.32817994532351, Variance = 8.541144070717609, Mixing Coefficient = 0.5993352241055984\n",
      "Component 2: Mean = 15.988351579447357, Variance = 7.569096733038601, Mixing Coefficient = 0.40066477589440164\n"
     ]
    }
   ],
   "source": [
    "import numpy as np\n",
    "\n",
    "X = np.array([12, 15, 0, 3, 3, 7, 9, 19, 18, 4])\n",
    "mu1 = 5\n",
    "sigma1_squared = 2\n",
    "mu2 = 15\n",
    "sigma2_squared = 2\n",
    "pi1 = 0.5\n",
    "pi2 = 0.5\n",
    "\n",
    "def gaussian_pdf(x, mu, sigma_squared):\n",
    "    return (1 / np.sqrt(2 * np.pi * sigma_squared)) * np.exp(-((x - mu) ** 2) / (2 * sigma_squared))\n",
    "\n",
    "def expectation_step(X, mu1, sigma1_squared, mu2, sigma2_squared, pi1, pi2):\n",
    "    weights = []\n",
    "    for x in X:\n",
    "        p_x_mu1 = gaussian_pdf(x, mu1, sigma1_squared)\n",
    "        p_x_mu2 = gaussian_pdf(x, mu2, sigma2_squared)\n",
    "        \n",
    "        weight1 = pi1 * p_x_mu1\n",
    "        weight2 = pi2 * p_x_mu2\n",
    "        weight_sum = weight1 + weight2\n",
    "        \n",
    "        weights.append((weight1 / weight_sum, weight2 / weight_sum))\n",
    "    return np.array(weights)\n",
    "\n",
    "def maximization_step(X, weights):\n",
    "    mu1 = np.sum(weights[:, 0] * X) / np.sum(weights[:, 0])\n",
    "    mu2 = np.sum(weights[:, 1] * X) / np.sum(weights[:, 1])\n",
    "    sigma1_squared = np.sum(weights[:, 0] * (X - mu1) ** 2) / np.sum(weights[:, 0])\n",
    "    sigma2_squared = np.sum(weights[:, 1] * (X - mu2) ** 2) / np.sum(weights[:, 1])\n",
    "    pi1 = np.mean(weights[:, 0])\n",
    "    pi2 = np.mean(weights[:, 1])\n",
    "    \n",
    "    return mu1, sigma1_squared, mu2, sigma2_squared, pi1, pi2\n",
    "\n",
    "\n",
    "\n",
    "weights = expectation_step(X, mu1, sigma1_squared, mu2, sigma2_squared, pi1, pi2)\n",
    "mu1_new, sigma1_squared_new, mu2_new, sigma2_squared_new, pi1_new, pi2_new = maximization_step(X, weights)\n",
    "\n",
    "print(\"Updated parameters after one iteration:\")\n",
    "print(f\"Component 1: Mean = {mu1_new}, Variance = {sigma1_squared_new}, Mixing Coefficient = {pi1_new}\")\n",
    "print(f\"Component 2: Mean = {mu2_new}, Variance = {sigma2_squared_new}, Mixing Coefficient = {pi2_new}\")\n"
   ]
  },
  {
   "cell_type": "markdown",
   "metadata": {},
   "source": []
  }
 ],
 "metadata": {
  "kernelspec": {
   "display_name": "base",
   "language": "python",
   "name": "python3"
  },
  "language_info": {
   "codemirror_mode": {
    "name": "ipython",
    "version": 3
   },
   "file_extension": ".py",
   "mimetype": "text/x-python",
   "name": "python",
   "nbconvert_exporter": "python",
   "pygments_lexer": "ipython3",
   "version": "3.9.12"
  }
 },
 "nbformat": 4,
 "nbformat_minor": 2
}
