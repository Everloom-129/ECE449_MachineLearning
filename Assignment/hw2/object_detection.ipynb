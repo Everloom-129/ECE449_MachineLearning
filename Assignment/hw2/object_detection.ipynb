{
 "cells": [
  {
   "cell_type": "code",
   "execution_count": 5,
   "metadata": {},
   "outputs": [
    {
     "name": "stdout",
     "output_type": "stream",
     "text": [
      "<scipy.interpolate.interpolate.interp2d object at 0x0000028C504BAA30>\n",
      "[0.5 2.5]\n",
      "[0.5 2.5]\n",
      "Aligned Feature:\n",
      "[[ 3.5  5.5]\n",
      " [11.5 13.5]]\n"
     ]
    }
   ],
   "source": [
    "import numpy as np\n",
    "from scipy.interpolate import interp2d\n",
    "\n",
    "# Mock a 4x4 feature map\n",
    "feature_map = np.array([[1, 2, 3, 4],\n",
    "                        [5, 6, 7, 8],\n",
    "                        [9, 10, 11, 12],\n",
    "                        [13, 14, 15, 16]])\n",
    "\n",
    "# Coordinates for a 2x2 ROI in the feature map\n",
    "roi_top_left = (0.5, 0.5)\n",
    "roi_bottom_right = (2.5, 2.5)\n",
    "\n",
    "# Create an interpolation function\n",
    "interp_func = interp2d(range(4), range(4), feature_map, kind='linear')\n",
    "print(interp_func)\n",
    "# Using bilinear interpolation to find the values at the corners of the ROI\n",
    "x_new = np.linspace(roi_top_left[0], roi_bottom_right[0], 2)\n",
    "print(x_new)\n",
    "y_new = np.linspace(roi_top_left[1], roi_bottom_right[1], 2)\n",
    "print(y_new)\n",
    "\n",
    "aligned_feature = interp_func(x_new, y_new)\n",
    "\n",
    "print(\"Aligned Feature:\")\n",
    "print(aligned_feature)\n"
   ]
  }
 ],
 "metadata": {
  "kernelspec": {
   "display_name": "base",
   "language": "python",
   "name": "python3"
  },
  "language_info": {
   "codemirror_mode": {
    "name": "ipython",
    "version": 3
   },
   "file_extension": ".py",
   "mimetype": "text/x-python",
   "name": "python",
   "nbconvert_exporter": "python",
   "pygments_lexer": "ipython3",
   "version": "3.9.12"
  }
 },
 "nbformat": 4,
 "nbformat_minor": 2
}
